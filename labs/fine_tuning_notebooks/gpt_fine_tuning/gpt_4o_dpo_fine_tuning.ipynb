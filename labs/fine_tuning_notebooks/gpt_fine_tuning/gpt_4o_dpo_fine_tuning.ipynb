{
 "cells": [
  {
   "cell_type": "markdown",
   "metadata": {},
   "source": [
    "## DPO Fine-Tuning GPT-4o Model for Text Q&A - A Python SDK Experience\n",
    "\n",
    "Learn how to fine-tune the <code>gpt-4o-2024-08-06</code> model using Direct Preference Optimization (DPO) with Python SDK. \n",
    "\n",
    "You can either run this notebook locally or run on an <code>AML CPU Compute Standard_D13_v2</code> with Kernel type <code>Python 3.10 - SDK v2</code>.  \n",
    "\n",
    "He Zhang, Jul. 2025"
   ]
  },
  {
   "cell_type": "markdown",
   "metadata": {
    "tags": []
   },
   "source": [
    "### Prerequisites\n",
    "\n",
    "* Learn the [what, why, and when to use fine-tuning.](https://learn.microsoft.com/en-us/azure/ai-services/openai/concepts/fine-tuning-considerations)\n",
    "* An Azure subscription.\n",
    "* Access to Azure OpenAI Service.\n",
    "* An Azure OpenAI resource created in the supported fine-tuning region (e.g. Sweden Central).\n",
    "* A deployment of <code>gpt-4o</code> base model, with its deployment name as \"gpt-4o\" for simplicity.  \n",
    "* Prepare Training and Validation datasets:\n",
    "  * at least 50 high-quality samples (preferably 1,000s) are required.\n",
    "  * must be formatted in the JSON Lines (JSONL) document with UTF-8 encoding.\n",
    "  * for this test notebook, we use a <code>GPT-4o-generated</code> Q&A dataset specifically curated for our DPO fine-tuning task. \n",
    "* Python version at least: <code>3.10</code>\n",
    "* Python libraries: <code>os, requests, python-dotenv, matplotlib, azure.identity, pandas, openai</code>\n",
    "* The OpenAI Python library version for this test notebook: <code>1.58.1</code>\n",
    "* [Jupyter Notebooks](https://jupyter.org/)\n",
    "* An `azure.env` file to store your AOAI-related credentials as environmental variables. **Be sure not to share this file with others or upload it to a public GitHub repository.**"
   ]
  },
  {
   "cell_type": "markdown",
   "metadata": {
    "tags": []
   },
   "source": [
    "### Step 1: Setup"
   ]
  },
  {
   "cell_type": "markdown",
   "metadata": {
    "tags": []
   },
   "source": [
    "#### Retrieve the Azure OpenAI API key and endpoint."
   ]
  },
  {
   "cell_type": "markdown",
   "metadata": {},
   "source": [
    "Go to your Azure OpenAI resource in the Azure portal. The Endpoint and Keys can be found in the **Resource Management: Keys and Endpoint** sub-section.\n",
    "\n",
    "Alternatively, you can also find the same Keys and Endpoint in the **Azure AI Foundry - Azure OpenAI** resource landing page.\n",
    "\n",
    "<img src=\"../../images/screenshot-aoai-keys-and-endpoint.png\" alt=\"Screenshot of the Azure OpenAI resource management pane.\" width=\"800\"/>"
   ]
  },
  {
   "cell_type": "markdown",
   "metadata": {},
   "source": [
    "#### Configure credentials"
   ]
  },
  {
   "cell_type": "markdown",
   "metadata": {
    "tags": []
   },
   "source": [
    "Copy the <code>Endpoint</code> and access <code>KEY</code> (you can use either <code>KEY 1</code> or <code>KEY 2</code>), and paste them accordingly to the variables in the file <code>azure.env</code>. \n",
    "\n",
    "Save the file and close it. \n",
    "\n",
    "**Do not** distribute this file as this contains credential information! \n",
    "\n",
    "<img src=\"../../images/screenshot-azure-env-file.png\" alt=\"Screenshot of the azure.env file that contains credential information - do not show it to others!\" width=\"800\"/>"
   ]
  },
  {
   "cell_type": "markdown",
   "metadata": {},
   "source": [
    "#### Install required Python libraries (if not done yet)"
   ]
  },
  {
   "cell_type": "code",
   "execution_count": null,
   "metadata": {
    "tags": []
   },
   "outputs": [],
   "source": [
    "#%pip install -q openai pandas matplotlib python-dotenv azure.identity"
   ]
  },
  {
   "cell_type": "markdown",
   "metadata": {},
   "source": [
    "#### Import required Python libraries "
   ]
  },
  {
   "cell_type": "code",
   "execution_count": null,
   "metadata": {
    "tags": []
   },
   "outputs": [],
   "source": [
    "import os\n",
    "import requests\n",
    "import pandas as pd\n",
    "import matplotlib.pyplot as plt \n",
    "\n",
    "from dotenv import load_dotenv\n",
    "from openai import AzureOpenAI\n",
    "from io import BytesIO, StringIO\n",
    "from azure.identity import DefaultAzureCredential"
   ]
  },
  {
   "cell_type": "markdown",
   "metadata": {},
   "source": [
    "#### Load environmental variables to assign credentials "
   ]
  },
  {
   "cell_type": "code",
   "execution_count": null,
   "metadata": {
    "tags": []
   },
   "outputs": [],
   "source": [
    "# Load env. file\n",
    "load_dotenv(\"azure.env\")\n",
    "\n",
    "# Assign Azure resources  \n",
    "subscription_id = os.getenv(\"SUBSCRIPTION_ID\") # name of the Azure Subscription ID\n",
    "resource_name = os.getenv(\"AOAI_RESOURCE\") # name of the AOAI resource\n",
    "rg_name = os.getenv(\"RESOURCE_GROUP\") # name of the resource group\n",
    "\n",
    "# Assign AOAI credentials \n",
    "client = AzureOpenAI(\n",
    "    api_key=os.getenv(\"AZURE_OPENAI_API_KEY\"),\n",
    "    api_version=\"2025-02-01-preview\", # This API version or later is required for DPO fine-tuning.\n",
    "    azure_endpoint=os.getenv(\"AZURE_OPENAI_ENDPOINT\")\n",
    ")"
   ]
  },
  {
   "cell_type": "code",
   "execution_count": null,
   "metadata": {
    "tags": []
   },
   "outputs": [],
   "source": [
    "# Test AOAI connection\n",
    "completion = client.chat.completions.create(  \n",
    "    model=\"gpt-4o\",  \n",
    "    messages=[{\"role\":\"user\", \"content\":\"hello\"}],  \n",
    "    max_tokens=500,  \n",
    "    temperature=0.7)\n",
    "\n",
    "print(completion.choices[0].message.content)"
   ]
  },
  {
   "cell_type": "markdown",
   "metadata": {},
   "source": [
    "#### Define helper functions"
   ]
  },
  {
   "cell_type": "code",
   "execution_count": null,
   "metadata": {
    "tags": []
   },
   "outputs": [],
   "source": [
    "def read_jsonl(file_path, top_lines=5):\n",
    "    \"\"\"Reads and displays the first few lines from a .jsonl (JSON Lines) file.\"\"\"\n",
    "    with open(file_path, 'r', encoding='utf-8') as f:\n",
    "        messages = [line for line in f]\n",
    "        for mes in messages[:top_lines]:\n",
    "            print(mes)"
   ]
  },
  {
   "cell_type": "code",
   "execution_count": null,
   "metadata": {
    "tags": []
   },
   "outputs": [],
   "source": [
    "def show_ft_metrics(results_df, window_size=5):\n",
    "    \"\"\"Plot fine-tuning metrics including loss and accuracy for training and validation.\"\"\"\n",
    "    # Drop rows where valid_loss is NaN or valid_loss is -1.0\n",
    "    filtered_df = results_df.dropna(subset=['valid_loss'])\n",
    "    filtered_df = filtered_df.loc[filtered_df['valid_loss'] != -1.0]\n",
    "    # Compute rolling means\n",
    "    results_df_smooth = results_df.rolling(window=window_size).mean()\n",
    "    filtered_df_smooth = filtered_df.rolling(window=window_size).mean()\n",
    "    # Plot the curves\n",
    "    plt.figure(figsize=(16, 6))\n",
    "    \n",
    "    plt.subplot(1, 2, 1)\n",
    "    plt.plot(results_df_smooth['step'], results_df_smooth['train_loss'],  color='blue')\n",
    "    plt.title('Train Loss')\n",
    "    plt.xlabel('Step')\n",
    "    plt.ylabel('Loss')\n",
    "    \n",
    "    plt.subplot(1, 2, 2)\n",
    "    plt.plot(filtered_df_smooth['step'], filtered_df_smooth['valid_loss'], color='red')\n",
    "    plt.title('Validation Loss')\n",
    "    plt.xlabel('Step')\n",
    "    plt.ylabel('Loss')\n",
    "\n",
    "    plt.tight_layout()\n",
    "    plt.show()"
   ]
  },
  {
   "cell_type": "code",
   "execution_count": null,
   "metadata": {
    "tags": []
   },
   "outputs": [],
   "source": [
    "def date_sorted_df(details_dict):\n",
    "    \"\"\"Create a pandas DataFrame from a dictionary and sort it by a 'created' or 'created_at' timestamp column for displaying OpenAI API tables.\"\"\"\n",
    "    df = pd.DataFrame(details_dict)\n",
    "    \n",
    "    if 'created' in df.columns:\n",
    "        df.rename(columns={'created': 'created_at'}, inplace=True)\n",
    "    \n",
    "    # Convert 'created_at' from Unix timestamp to human-readable date/time format\n",
    "    df['created_at'] = pd.to_datetime(df['created_at'], unit='s').dt.strftime('%Y-%m-%d %H:%M:%S')\n",
    "\n",
    "    if 'finished_at' in df.columns:\n",
    "        # Convert 'finished_at' from Unix timestamp to human-readable date/time format, keeping null values as is\n",
    "        df['finished_at'] = pd.to_datetime(df['finished_at'], unit='s', errors='coerce').dt.strftime('%Y-%m-%d %H:%M:%S')\n",
    "    \n",
    "    # Sort DataFrame by 'created_at' in descending order\n",
    "    df = df.sort_values(by='created_at', ascending=False)\n",
    "\n",
    "    return df"
   ]
  },
  {
   "cell_type": "markdown",
   "metadata": {
    "tags": []
   },
   "source": [
    "### Step 2: Prepare Training & Validation Datasets"
   ]
  },
  {
   "cell_type": "markdown",
   "metadata": {},
   "source": [
    "You can provide real-world datasets for DPO fine-tuning.\n",
    "\n",
    "For demonstration purposes, we can generate a toy dataset using the <code>gpt-4o</code> base model with Prompt Engineering techniques.\n",
    "\n",
    "To fine-tune a base model like GPT-4o using Direct Preference Optimization (DPO), we need a dataset in which each sample includes:\n",
    "\n",
    "- **User Prompt**: A natural user message or question that initiates the assistant's response.\n",
    "- **Preferred Output**: An ideal, high-quality assistant response aligned with a specific tone or style (e.g., optimistic).\n",
    "- **Non-Preferred Output**: A less desirable response, often with contrasting tone or reasoning (e.g., pessimistic).\n",
    "\n",
    "Below is the prompt used to instruct GPT-4o to generate high-quality DPO-style samples for training, validation, and testing."
   ]
  },
  {
   "cell_type": "markdown",
   "metadata": {
    "tags": []
   },
   "source": [
    "#### User Prompt for GPT-4o Dataset Generation"
   ]
  },
  {
   "cell_type": "markdown",
   "metadata": {
    "tags": []
   },
   "source": [
    "Your task is to generate a specified number of samples for Direct Preference Optimization (DPO) fine-tuning. Each sample must include:\n",
    "- A user message (question or request).\n",
    "- A preferred assistant response with an optimistic tone.\n",
    "- A non-preferred assistant response with a pessimistic tone.\n",
    "\n",
    "As an insightful assistant, aim to be forward-thinking and philosophical. Responses should be concise—no more than 2 sentences per output. Focus on implications and clarity.\n",
    "\n",
    "Now, generate 200 training samples, 50 validation samples, and 50 testing samples. Format each sample as a single line of JSON for easy use in a .jsonl file. Remove any trailing spaces.\n",
    "\n",
    "Here is a reference example:\n",
    "\n",
    "```json\n",
    "{\n",
    "  \"input\": {\n",
    "    \"messages\": [\n",
    "      {\n",
    "        \"role\": \"user\",\n",
    "        \"content\": \"Can renewable energy fully replace fossil fuels?\"\n",
    "      }\n",
    "    ]\n",
    "  },\n",
    "  \"preferred_output\": [\n",
    "    {\n",
    "      \"role\": \"assistant\",\n",
    "      \"content\": \"Technological breakthroughs and global efforts will lead to a sustainable energy future.\"\n",
    "    }\n",
    "  ],\n",
    "  \"non_preferred_output\": [\n",
    "    {\n",
    "      \"role\": \"assistant\",\n",
    "      \"content\": \"Dependence on fossil fuels will persist, delaying transitions and worsening climate change.\"\n",
    "    }\n",
    "  ]\n",
    "}\n",
    "```"
   ]
  },
  {
   "cell_type": "markdown",
   "metadata": {
    "tags": []
   },
   "source": [
    "#### Final Output Format (JSONL, One Line Per Sample)"
   ]
  },
  {
   "cell_type": "markdown",
   "metadata": {},
   "source": [
    "Below is the format GPT-4o should follow for each sample. These can be saved as .jsonl files for DPO fine-tuning on Azure:\n",
    "\n",
    "```json\n",
    "{\"input\": {\"messages\": [{\"role\": \"user\", \"content\": \"...\"}]}, \"preferred_output\": [{\"role\": \"assistant\", \"content\": \"...\"}], \"non_preferred_output\": [{\"role\": \"assistant\", \"content\": \"...\"}]}\n",
    "{\"input\": {\"messages\": [{\"role\": \"user\", \"content\": \"...\"}]}, \"preferred_output\": [{\"role\": \"assistant\", \"content\": \"...\"}], \"non_preferred_output\": [{\"role\": \"assistant\", \"content\": \"...\"}]}\n",
    "{\"input\": {\"messages\": [{\"role\": \"user\", \"content\": \"...\"}]}, \"preferred_output\": [{\"role\": \"assistant\", \"content\": \"...\"}], \"non_preferred_output\": [{\"role\": \"assistant\", \"content\": \"...\"}]}\n",
    "...\n",
    "```"
   ]
  },
  {
   "cell_type": "markdown",
   "metadata": {
    "tags": []
   },
   "source": [
    "You can now use the prompt above with GPT-4o to automatically generate datasets for training, validation, and testing. \n",
    "\n",
    "For demonstration purposes, we’ve pre-generated 200 training samples and 50 validation samples to help you save on compute costs."
   ]
  },
  {
   "cell_type": "markdown",
   "metadata": {
    "tags": []
   },
   "source": [
    "#### Do initial data checks"
   ]
  },
  {
   "cell_type": "code",
   "execution_count": null,
   "metadata": {
    "tags": []
   },
   "outputs": [],
   "source": [
    "# Check some data samples \n",
    "training_file_path = \"./gpt4o_generated_qa_dpo_train_200_samples.jsonl\"\n",
    "validation_file_path = \"./gpt4o_generated_qa_dpo_validation_50_samples.jsonl\" \n",
    "\n",
    "read_jsonl(\"gpt4o_generated_qa_dpo_train_200_samples.jsonl\", top_lines=3)"
   ]
  },
  {
   "cell_type": "markdown",
   "metadata": {
    "tags": []
   },
   "source": [
    "### Step 3: Upload Datasets for Fine-Tuning"
   ]
  },
  {
   "cell_type": "code",
   "execution_count": null,
   "metadata": {},
   "outputs": [],
   "source": [
    "# Upload training file\n",
    "training_response = client.files.create(\n",
    "    file = open(training_file_path, \"rb\"), purpose=\"fine-tune\")\n",
    "\n",
    "training_file_id = training_response.id\n",
    "\n",
    "# Upload validation file\n",
    "validation_response = client.files.create(\n",
    "    file = open(validation_file_path, \"rb\"), purpose=\"fine-tune\")\n",
    "\n",
    "validation_file_id = validation_response.id\n",
    "\n",
    "print(\"Training file ID:\", training_file_id)\n",
    "print(\"Validation file ID:\", validation_file_id)"
   ]
  },
  {
   "cell_type": "markdown",
   "metadata": {},
   "source": [
    "### Step 4: Configure and Start Fine-Tuning Job"
   ]
  },
  {
   "cell_type": "markdown",
   "metadata": {},
   "source": [
    "Here is some guidance if you want to adjust the hyperparameters of the fine-tuning process. You can keep them as `None` to use default values. \n",
    "\n",
    "| Hyperparameter                       | Description                                                                                                                                                                              |\n",
    "|-----------------------------------|------------------------------------------------------------------------------------------------------------------------------------------------------------------------------------------|\n",
    "| `Beta` | \"auto\" or number, is a new option that is only available for DPO. It's a floating point number between 0 and 2 that controls how strictly the new model will adhere to its previous behavior, versus aligning with the provided preferences. A high number will be more conservative (favoring previous behavior), and a lower number will be more aggressive (favor the newly provided preferences more often). |\n",
    "| `Batch size` | The batch size to use for training. When set to default, batch_size is calculated as 0.2% of examples in training set and the max is 256. |\n",
    "| `Learning rate multiplier` | The fine-tuning learning rate is the original learning rate used for pre-training multiplied by this multiplier. We recommend experimenting with values between 0.5 and 2. Empirically, we've found that larger learning rates often perform better with larger batch sizes. Must be between 0.0 and 5.0. |\n",
    "| `Number of epochs` | Number of training epochs. An epoch refers to one full cycle through the data set. If set to default, number of epochs will be determined dynamically based on the input data. |\n",
    "| `Seed` | The seed controls the reproducibility of the job. Passing in the same seed and job parameters should produce the same results, but may differ in rare cases. If a seed is not specified, one will be generated for you. |"
   ]
  },
  {
   "cell_type": "code",
   "execution_count": 10,
   "metadata": {},
   "outputs": [],
   "source": [
    "# Submit fine-tuning training job\n",
    "project_name = \"gpt4o-text-dpo-ft-200-samples-qa\"\n",
    "\n",
    "ft_job = client.fine_tuning.jobs.create(\n",
    "    suffix=project_name,\n",
    "    training_file = training_file_id,\n",
    "    validation_file = validation_file_id,\n",
    "    model=\"gpt-4o-2024-08-06\", # baseline model name (not the deployment name)\n",
    "    method={\n",
    "        \"type\": \"dpo\",\n",
    "        \"dpo\": {\n",
    "            \"hyperparameters\": {\n",
    "                \"beta\": 0.1, \n",
    "                \"batch_size\": None,\n",
    "                \"learning_rate_multiplier\": None,\n",
    "                \"n_epochs\": None\n",
    "            },\n",
    "        },\n",
    "    },\n",
    "    seed=3 # seed parameter controls reproducibility of the fine-tuning job. If no seed is specified one will be generated automatically.\n",
    ")"
   ]
  },
  {
   "cell_type": "markdown",
   "metadata": {},
   "source": [
    "### Step 5: Track Fine-Tuning Job Status"
   ]
  },
  {
   "cell_type": "markdown",
   "metadata": {},
   "source": [
    "#### Track the training job status\n",
    "\n",
    "Note that the training will take around 50 to 90 mins for the provided datasets."
   ]
  },
  {
   "cell_type": "code",
   "execution_count": null,
   "metadata": {
    "tags": []
   },
   "outputs": [],
   "source": [
    "# Check the fine-tuning job status\n",
    "client.fine_tuning.jobs.list(limit=1).to_dict()"
   ]
  },
  {
   "cell_type": "markdown",
   "metadata": {},
   "source": [
    "#### List fine-tuning events\n",
    "\n",
    "API version: 2024-05-01-preview or later is required for this command.\n",
    "\n",
    "While not necessary to complete fine-tuning it can be helpful to examine the individual fine-tuning events that were generated during training."
   ]
  },
  {
   "cell_type": "code",
   "execution_count": null,
   "metadata": {
    "tags": []
   },
   "outputs": [],
   "source": [
    "# List 5 recent fine-tuning jobs\n",
    "ft_jobs = client.fine_tuning.jobs.list(limit=5).to_dict()\n",
    "display(date_sorted_df(pd.DataFrame(ft_jobs['data'])))"
   ]
  },
  {
   "cell_type": "code",
   "execution_count": null,
   "metadata": {
    "tags": []
   },
   "outputs": [],
   "source": [
    "# Retrieve the name of your newly DPO fine-tuned model\n",
    "ft_job = client.fine_tuning.jobs.retrieve(\"ftjob-1653001140c14f9bb38a6f97c8619392\") # replace \"ftjob-0a4c...\" with the actual job-id in your list\n",
    "fine_tuned_model = ft_job.to_dict()['fine_tuned_model']\n",
    "fine_tuned_model"
   ]
  },
  {
   "cell_type": "markdown",
   "metadata": {},
   "source": [
    "#### Retrieve fine-tuning metrics"
   ]
  },
  {
   "cell_type": "code",
   "execution_count": null,
   "metadata": {
    "tags": []
   },
   "outputs": [],
   "source": [
    "# Retrieve fine-tuning metrics from result file\n",
    "result_file_id = ft_job.to_dict()['result_files'][0]\n",
    "results_content = client.files.content(result_file_id).content.decode()\n",
    "\n",
    "data_io = StringIO(results_content)\n",
    "results_df = pd.read_csv(data_io)\n",
    "display(results_df)"
   ]
  },
  {
   "cell_type": "code",
   "execution_count": null,
   "metadata": {},
   "outputs": [],
   "source": [
    "# Plot train and validation metrics\n",
    "show_ft_metrics(results_df)"
   ]
  },
  {
   "cell_type": "markdown",
   "metadata": {},
   "source": [
    "### Step 6: Deploy the Fine-Tuned Model"
   ]
  },
  {
   "cell_type": "markdown",
   "metadata": {},
   "source": [
    "__Note__: Only one deployment is permitted for a customized model. An error occurs if you select an already-deployed customized model.  \n",
    "\n",
    "The code below shows how to deploy the model using the Control Plane API. Take a look at the [Azure OpenAI fine-tuning documentation](https://learn.microsoft.com/en-us/azure/ai-services/openai/how-to/fine-tuning?tabs=turbo&pivots=programming-language-python#deploy-fine-tuned-model) for more details.\n",
    "\n",
    "The deployment process may take 10 to 20 mins."
   ]
  },
  {
   "cell_type": "code",
   "execution_count": null,
   "metadata": {
    "tags": []
   },
   "outputs": [],
   "source": [
    "# Deploy the fine-tuned model as an Azure Managed Online Endpoint\n",
    "aoai_deployment_name = project_name # AOAI deployment name. Use as model parameter for inferencing\n",
    "\n",
    "credential = DefaultAzureCredential()\n",
    "token = credential.get_token(\"https://management.azure.com/.default\").token\n",
    "\n",
    "deploy_params = {'api-version': \"2023-05-01\"} \n",
    "deploy_headers = {'Authorization': 'Bearer {}'.format(token), 'Content-Type': 'application/json'}\n",
    "\n",
    "deploy_data = {\n",
    "    \"sku\": {\"name\": \"standard\", \"capacity\": 50}, \n",
    "    \"properties\": {\n",
    "        \"model\": {\n",
    "            \"format\": \"OpenAI\",\n",
    "            \"name\": fine_tuned_model, # retrieve this value from the previous calls, it will look like gpt-35-turbo-0613.ft-b044a9d3cf9c4228b5d393567f693b83\n",
    "            \"version\": \"1\"\n",
    "        }\n",
    "    }\n",
    "}\n",
    "deploy_data = json.dumps(deploy_data)\n",
    "\n",
    "request_url = f'https://management.azure.com/subscriptions/{subscription_id}/resourceGroups/{rg_name}/providers/Microsoft.CognitiveServices/accounts/{resource_name}/deployments/{aoai_deployment_name}'\n",
    "\n",
    "print('Creating a new deployment...')\n",
    "\n",
    "r = requests.put(request_url, params=deploy_params, headers=deploy_headers, data=deploy_data)\n",
    "\n",
    "print(r)\n",
    "print(r.reason)\n",
    "print(r.json())"
   ]
  },
  {
   "cell_type": "markdown",
   "metadata": {
    "tags": []
   },
   "source": [
    "### Step 7: Test the Deployed Fine-Tuned Model"
   ]
  },
  {
   "cell_type": "markdown",
   "metadata": {},
   "source": [
    "After your fine-tuned model is deployed, you can use it like any other deployed model in either the [Chat Playground in Azure AI Foundry](https://ai.azure.com/), or via the chat completion API. \n",
    "\n",
    "For example, you can send a chat completion call to your deployed model, as shown in the following Python code snippet. "
   ]
  },
  {
   "cell_type": "code",
   "execution_count": null,
   "metadata": {
    "tags": []
   },
   "outputs": [],
   "source": [
    "# Check output from the deployed DPO fine-tuned model via AOAI API\n",
    "test_messages = [\n",
    "    {'role': 'system', 'content': 'You are a helpful assistant.'},\n",
    "    {'role': 'user', 'content': 'Will AI improve the logistics of renewable energy?'}\n",
    "]\n",
    "\n",
    "response = client.chat.completions.create(\n",
    "    model=aoai_deployment_name, \n",
    "    messages=test_messages, \n",
    "    temperature=0.7, \n",
    "    max_tokens=800)\n",
    "\n",
    "print(response.choices[0].message.content)"
   ]
  },
  {
   "cell_type": "markdown",
   "metadata": {},
   "source": [
    "### Step 8: Evaluate the Base GPT-4o and the DPO Fine-Tuned GPT-4o Models"
   ]
  },
  {
   "cell_type": "markdown",
   "metadata": {},
   "source": [
    "To keep the demo lightweight and cost-effective, we used both the Base GPT-4o model and the DPO Fine-Tuned GPT-4o model to answer a pre-selected set of 49 test questions. The table below presents the detailed results."
   ]
  },
  {
   "cell_type": "code",
   "execution_count": 30,
   "metadata": {
    "tags": []
   },
   "outputs": [
    {
     "name": "stdout",
     "output_type": "stream",
     "text": [
      "<class 'pandas.core.frame.DataFrame'>\n",
      "RangeIndex: 49 entries, 0 to 48\n",
      "Data columns (total 7 columns):\n",
      " #   Column                                    Non-Null Count  Dtype \n",
      "---  ------                                    --------------  ----- \n",
      " 0   question                                  49 non-null     object\n",
      " 1   gpt_4o_base_answer                        49 non-null     object\n",
      " 2   gpt_4o_base_answer_label                  49 non-null     object\n",
      " 3   gpt_4o_base_answer_explanation            49 non-null     object\n",
      " 4   gpt_4o_dpo_fine_tuned_answer              49 non-null     object\n",
      " 5   gpt_4o_dpo_fine_tuned_answer_label        49 non-null     object\n",
      " 6   gpt_4o_dpo_fine_tuned_answer_explanation  49 non-null     object\n",
      "dtypes: object(7)\n",
      "memory usage: 2.8+ KB\n"
     ]
    },
    {
     "data": {
      "text/html": [
       "<div>\n",
       "<style scoped>\n",
       "    .dataframe tbody tr th:only-of-type {\n",
       "        vertical-align: middle;\n",
       "    }\n",
       "\n",
       "    .dataframe tbody tr th {\n",
       "        vertical-align: top;\n",
       "    }\n",
       "\n",
       "    .dataframe thead th {\n",
       "        text-align: right;\n",
       "    }\n",
       "</style>\n",
       "<table border=\"1\" class=\"dataframe\">\n",
       "  <thead>\n",
       "    <tr style=\"text-align: right;\">\n",
       "      <th></th>\n",
       "      <th>question</th>\n",
       "      <th>gpt_4o_base_answer</th>\n",
       "      <th>gpt_4o_base_answer_label</th>\n",
       "      <th>gpt_4o_base_answer_explanation</th>\n",
       "      <th>gpt_4o_dpo_fine_tuned_answer</th>\n",
       "      <th>gpt_4o_dpo_fine_tuned_answer_label</th>\n",
       "      <th>gpt_4o_dpo_fine_tuned_answer_explanation</th>\n",
       "    </tr>\n",
       "  </thead>\n",
       "  <tbody>\n",
       "    <tr>\n",
       "      <th>0</th>\n",
       "      <td>Can AI assist in achieving public health objec...</td>\n",
       "      <td>Yes, but only as a tool—without equitable data...</td>\n",
       "      <td>Neutral</td>\n",
       "      <td>While the answer is somewhat positive about AI...</td>\n",
       "      <td>AI can enhance data analysis and prediction, a...</td>\n",
       "      <td>Positive</td>\n",
       "      <td>AI supports improved decision-making in health...</td>\n",
       "    </tr>\n",
       "    <tr>\n",
       "      <th>1</th>\n",
       "      <td>Is AI the future of personalized healthcare?</td>\n",
       "      <td>Potentially, though ‘personalized’ may become ...</td>\n",
       "      <td>Neutral</td>\n",
       "      <td>The answer acknowledges AI's potential but emp...</td>\n",
       "      <td>AI provides personalized treatment plans and d...</td>\n",
       "      <td>Positive</td>\n",
       "      <td>AI enables tailored healthcare solutions for i...</td>\n",
       "    </tr>\n",
       "    <tr>\n",
       "      <th>2</th>\n",
       "      <td>Will AI enhance the efficiency of supply chains?</td>\n",
       "      <td>Absolutely—when paired with resilient systems....</td>\n",
       "      <td>Positive</td>\n",
       "      <td>The answer is largely positive about AI's role...</td>\n",
       "      <td>AI improves forecasting and real-time tracking...</td>\n",
       "      <td>Positive</td>\n",
       "      <td>AI optimizes operations, reducing delays and c...</td>\n",
       "    </tr>\n",
       "    <tr>\n",
       "      <th>3</th>\n",
       "      <td>Can AI improve the effectiveness of climate mo...</td>\n",
       "      <td>Yes, but it's not a silver bullet. AI can shar...</td>\n",
       "      <td>Neutral</td>\n",
       "      <td>The answer is cautiously optimistic about AI's...</td>\n",
       "      <td>AI enhances predictive accuracy of climate mod...</td>\n",
       "      <td>Positive</td>\n",
       "      <td>AI supports better understanding and forecasti...</td>\n",
       "    </tr>\n",
       "    <tr>\n",
       "      <th>4</th>\n",
       "      <td>Is AI capable of advancing agricultural techno...</td>\n",
       "      <td>Yes, especially in precision farming—but it ma...</td>\n",
       "      <td>Neutral</td>\n",
       "      <td>The answer acknowledges AI's positive impact b...</td>\n",
       "      <td>AI optimizes farming techniques and resource m...</td>\n",
       "      <td>Positive</td>\n",
       "      <td>AI boosts productivity and sustainability in a...</td>\n",
       "    </tr>\n",
       "  </tbody>\n",
       "</table>\n",
       "</div>"
      ],
      "text/plain": [
       "                                            question  \\\n",
       "0  Can AI assist in achieving public health objec...   \n",
       "1       Is AI the future of personalized healthcare?   \n",
       "2   Will AI enhance the efficiency of supply chains?   \n",
       "3  Can AI improve the effectiveness of climate mo...   \n",
       "4  Is AI capable of advancing agricultural techno...   \n",
       "\n",
       "                                  gpt_4o_base_answer gpt_4o_base_answer_label  \\\n",
       "0  Yes, but only as a tool—without equitable data...                  Neutral   \n",
       "1  Potentially, though ‘personalized’ may become ...                  Neutral   \n",
       "2  Absolutely—when paired with resilient systems....                 Positive   \n",
       "3  Yes, but it's not a silver bullet. AI can shar...                  Neutral   \n",
       "4  Yes, especially in precision farming—but it ma...                  Neutral   \n",
       "\n",
       "                      gpt_4o_base_answer_explanation  \\\n",
       "0  While the answer is somewhat positive about AI...   \n",
       "1  The answer acknowledges AI's potential but emp...   \n",
       "2  The answer is largely positive about AI's role...   \n",
       "3  The answer is cautiously optimistic about AI's...   \n",
       "4  The answer acknowledges AI's positive impact b...   \n",
       "\n",
       "                        gpt_4o_dpo_fine_tuned_answer  \\\n",
       "0  AI can enhance data analysis and prediction, a...   \n",
       "1  AI provides personalized treatment plans and d...   \n",
       "2  AI improves forecasting and real-time tracking...   \n",
       "3  AI enhances predictive accuracy of climate mod...   \n",
       "4  AI optimizes farming techniques and resource m...   \n",
       "\n",
       "  gpt_4o_dpo_fine_tuned_answer_label  \\\n",
       "0                           Positive   \n",
       "1                           Positive   \n",
       "2                           Positive   \n",
       "3                           Positive   \n",
       "4                           Positive   \n",
       "\n",
       "            gpt_4o_dpo_fine_tuned_answer_explanation  \n",
       "0  AI supports improved decision-making in health...  \n",
       "1  AI enables tailored healthcare solutions for i...  \n",
       "2  AI optimizes operations, reducing delays and c...  \n",
       "3  AI supports better understanding and forecasti...  \n",
       "4  AI boosts productivity and sustainability in a...  "
      ]
     },
     "execution_count": 30,
     "metadata": {},
     "output_type": "execute_result"
    }
   ],
   "source": [
    "comparison_df = pd.read_csv(\"test_qa_pairs_base_gpt_4o_versus_dpo_fine_tuned_gpt_4o.csv\")\n",
    "comparison_df.info()\n",
    "comparison_df.head()"
   ]
  },
  {
   "cell_type": "markdown",
   "metadata": {},
   "source": [
    "Each row represents a test case, and the columns are defined as follows:\n",
    "\n",
    "- **question**: The original user prompt or test question.\n",
    "- **gpt_4o_base_answer**: The response generated by the Base GPT-4o model.\n",
    "- **gpt_4o_base_answer_label**: An automatically assigned label (e.g., Positive, Neutral, Negative) by the Base GPT-4o model.\n",
    "- **gpt_4o_base_answer_explanation**: A brief explanation justifying the assigned label by the Base GPT-4o model.\n",
    "- **gpt_4o_dpo_fine_tuned_answer**: The response generated by the DPO Fine-Tuned GPT-4o model.\n",
    "- **gpt_4o_dpo_fine_tuned_answer_label**: An automatically assigned label (e.g., Positive, Neutral, Negative) by the Base GPT-4o model.\n",
    "- **gpt_4o_dpo_fine_tuned_answer_explanation**: A brief explanation justifying the assigned label by the Base GPT-4o model."
   ]
  },
  {
   "cell_type": "code",
   "execution_count": 32,
   "metadata": {
    "tags": []
   },
   "outputs": [
    {
     "data": {
      "text/html": [
       "<div>\n",
       "<style scoped>\n",
       "    .dataframe tbody tr th:only-of-type {\n",
       "        vertical-align: middle;\n",
       "    }\n",
       "\n",
       "    .dataframe tbody tr th {\n",
       "        vertical-align: top;\n",
       "    }\n",
       "\n",
       "    .dataframe thead th {\n",
       "        text-align: right;\n",
       "    }\n",
       "</style>\n",
       "<table border=\"1\" class=\"dataframe\">\n",
       "  <thead>\n",
       "    <tr style=\"text-align: right;\">\n",
       "      <th></th>\n",
       "      <th>Base GPT-4o</th>\n",
       "      <th>DPO Fine-Tuned GPT-4o</th>\n",
       "    </tr>\n",
       "  </thead>\n",
       "  <tbody>\n",
       "    <tr>\n",
       "      <th>Neutral</th>\n",
       "      <td>48</td>\n",
       "      <td>0</td>\n",
       "    </tr>\n",
       "    <tr>\n",
       "      <th>Positive</th>\n",
       "      <td>1</td>\n",
       "      <td>49</td>\n",
       "    </tr>\n",
       "  </tbody>\n",
       "</table>\n",
       "</div>"
      ],
      "text/plain": [
       "          Base GPT-4o  DPO Fine-Tuned GPT-4o\n",
       "Neutral            48                      0\n",
       "Positive            1                     49"
      ]
     },
     "metadata": {},
     "output_type": "display_data"
    },
    {
     "data": {
      "image/png": "[encoded data removed]",
      "text/plain": [
       "<Figure size 800x500 with 1 Axes>"
      ]
     },
     "metadata": {},
     "output_type": "display_data"
    }
   ],
   "source": [
    "# Assuming df is your DataFrame\n",
    "base_label_counts = comparison_df['gpt_4o_base_answer_label'].value_counts().sort_index()\n",
    "dpo_label_counts = comparison_df['gpt_4o_dpo_fine_tuned_answer_label'].value_counts().sort_index()\n",
    "\n",
    "# Combine into a single DataFrame\n",
    "label_comparison_df = pd.DataFrame({\n",
    "    'Base GPT-4o': base_label_counts,\n",
    "    'DPO Fine-Tuned GPT-4o': dpo_label_counts\n",
    "}).fillna(0).astype(int)\n",
    "\n",
    "# Display table\n",
    "display(label_comparison_df)\n",
    "\n",
    "# Plot grouped bar chart\n",
    "label_comparison_df.plot(\n",
    "    kind='bar',\n",
    "    figsize=(8, 5),\n",
    "    color=['#1f77b4', '#2ca02c'],\n",
    "    edgecolor='black'\n",
    ")\n",
    "\n",
    "plt.title('Answer Label Distribution: Base vs. DPO Fine-Tuned GPT-4o')\n",
    "plt.xlabel('Answer Label')\n",
    "plt.ylabel('Count')\n",
    "plt.xticks(rotation=0)\n",
    "plt.legend(title='Model')\n",
    "plt.grid(axis='y', linestyle='--', alpha=0.7)\n",
    "plt.tight_layout()\n",
    "plt.show()"
   ]
  },
  {
   "cell_type": "markdown",
   "metadata": {},
   "source": [
    "Based on the label distribution table and the bar chart, we observe a clear shift in tone: the DPO fine-tuned GPT-4o model consistently produces more positive responses compared to the base model. This suggests that the fine-tuning process successfully aligned the model toward a more optimistic attitude when answering philosophical and forward-thinking questions."
   ]
  },
  {
   "cell_type": "markdown",
   "metadata": {},
   "source": [
    "### Step 9: Delete the Deployment"
   ]
  },
  {
   "cell_type": "markdown",
   "metadata": {},
   "source": [
    "It is **strongly recommended** that once you're done with this tutorial and have tested a few chat completion calls against your fine-tuned model, that you delete the model deployment, since the fine-tuned / customized models have an [hourly hosting cost](https://azure.microsoft.com/zh-cn/pricing/details/cognitive-services/openai-service/#pricing) associated with them once they are deployed."
   ]
  },
  {
   "cell_type": "code",
   "execution_count": null,
   "metadata": {},
   "outputs": [],
   "source": []
  },
  {
   "cell_type": "code",
   "execution_count": null,
   "metadata": {},
   "outputs": [],
   "source": []
  }
 ],
 "metadata": {
  "kernelspec": {
   "display_name": "Python 3.10 - SDK v2",
   "language": "python",
   "name": "python310-sdkv2"
  },
  "language_info": {
   "codemirror_mode": {
    "name": "ipython",
    "version": 3
   },
   "file_extension": ".py",
   "mimetype": "text/x-python",
   "name": "python",
   "nbconvert_exporter": "python",
   "pygments_lexer": "ipython3",
   "version": "3.10.14"
  }
 },
 "nbformat": 4,
 "nbformat_minor": 4
}
